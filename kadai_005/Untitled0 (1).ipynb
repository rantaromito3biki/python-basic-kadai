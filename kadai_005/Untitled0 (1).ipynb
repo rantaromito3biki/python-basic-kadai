{
  "nbformat": 4,
  "nbformat_minor": 0,
  "metadata": {
    "colab": {
      "provenance": [],
      "gpuType": "T4"
    },
    "kernelspec": {
      "name": "python3",
      "display_name": "Python 3"
    },
    "language_info": {
      "name": "python"
    },
    "accelerator": "GPU"
  },
  "cells": [
    {
      "cell_type": "code",
      "source": [
        "top_side = 10\n",
        "bottm_side = 20\n",
        "height = 5\n",
        "trapezoid_formula = (top_side + bottm_side) * height / 2\n",
        "print(str(trapezoid_formula) + \"㎠\")\n"
      ],
      "metadata": {
        "colab": {
          "base_uri": "https://localhost:8080/"
        },
        "id": "0SGmMv7lm92N",
        "outputId": "02f97a04-0dfe-489b-b84e-442f55e93059"
      },
      "execution_count": 5,
      "outputs": [
        {
          "output_type": "stream",
          "name": "stdout",
          "text": [
            "75.0㎠\n"
          ]
        }
      ]
    }
  ]
}